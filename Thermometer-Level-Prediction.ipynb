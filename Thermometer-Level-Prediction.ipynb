{
 "cells": [
  {
   "cell_type": "code",
   "execution_count": 1,
   "metadata": {},
   "outputs": [
    {
     "name": "stderr",
     "output_type": "stream",
     "text": [
      "Using TensorFlow backend.\n"
     ]
    }
   ],
   "source": [
    "# Imports\n",
    "%matplotlib inline\n",
    "from __future__ import print_function\n",
    "from matplotlib import pyplot as plt\n",
    "import keras\n",
    "from keras.models import Sequential\n",
    "from keras.layers import Dense, Dropout, Flatten\n",
    "from keras.layers import Conv2D, MaxPooling2D\n",
    "from IPython.display import clear_output\n",
    "from keras import backend as K\n",
    "import getData\n",
    "import numpy as np\n",
    "from sklearn import preprocessing\n",
    "from keras.preprocessing.image import ImageDataGenerator\n",
    "from keras.models import load_model\n",
    "from keras.utils import plot_model"
   ]
  },
  {
   "cell_type": "code",
   "execution_count": 2,
   "metadata": {},
   "outputs": [
    {
     "name": "stdout",
     "output_type": "stream",
     "text": [
      "Training data done\n",
      "Testing data done\n"
     ]
    }
   ],
   "source": [
    "# Pre-process Images for CNN \n",
    "# Input Image dimensions (Tunable parameter)\n",
    "img_rows, img_cols = 100, 100\n",
    "# Load Data\n",
    "train_dir = 'data/train/'\n",
    "x_train, y_train, _ = getData.load_data(train_dir, img_rows, img_cols)\n",
    "print(\"Training data done\")\n",
    "test_dir = 'data/test/'\n",
    "x_test, y_test, x_images = getData.load_data(test_dir, img_rows, img_cols)\n",
    "print(\"Testing data done\")"
   ]
  },
  {
   "cell_type": "code",
   "execution_count": 3,
   "metadata": {
    "collapsed": true
   },
   "outputs": [],
   "source": [
    "# Clean up data imbalance\n",
    "x_train, x_test, y_train, y_test = getData.imbalance(x_train, x_test, y_train, y_test)\n",
    "# Model Parameters\n",
    "batch_size = 64\n",
    "y_all = np.concatenate((y_train, y_test))\n",
    "num_classes = len(np.unique(y_all))\n",
    "epochs = 35      "
   ]
  },
  {
   "cell_type": "code",
   "execution_count": 4,
   "metadata": {},
   "outputs": [
    {
     "name": "stdout",
     "output_type": "stream",
     "text": [
      "Shape of Training Data (14456, 100, 100)\n",
      "Shape of Training Labels (14456, 1)\n",
      "Shape of Testing Data (1000, 100, 100)\n",
      "Shape of Testing Labels (1000, 1)\n"
     ]
    }
   ],
   "source": [
    "# Data Attributes\n",
    "print(\"Shape of Training Data\", x_train.shape)\n",
    "print(\"Shape of Training Labels\", y_train.shape)\n",
    "print(\"Shape of Testing Data\", x_test.shape)\n",
    "print(\"Shape of Testing Labels\", y_test.shape)"
   ]
  },
  {
   "cell_type": "code",
   "execution_count": 5,
   "metadata": {},
   "outputs": [
    {
     "name": "stdout",
     "output_type": "stream",
     "text": [
      "Displaying from Original Dataset\n"
     ]
    },
    {
     "data": {
      "text/plain": [
       "<matplotlib.image.AxesImage at 0x7fe7a7cc1cd0>"
      ]
     },
     "execution_count": 5,
     "metadata": {},
     "output_type": "execute_result"
    },
    {
     "data": {
      "image/png": "[encoded data removed]",
      "text/plain": [
       "<matplotlib.figure.Figure at 0x7fe83419fc10>"
      ]
     },
     "metadata": {},
     "output_type": "display_data"
    }
   ],
   "source": [
    "# Sample Images\n",
    "print(\"Displaying from Original Dataset\")\n",
    "plt.imshow(x_images[0])"
   ]
  },
  {
   "cell_type": "code",
   "execution_count": 6,
   "metadata": {},
   "outputs": [
    {
     "name": "stdout",
     "output_type": "stream",
     "text": [
      "This is what is fed to the CNN\n"
     ]
    },
    {
     "data": {
      "text/plain": [
       "<matplotlib.image.AxesImage at 0x7fe7a7c04e10>"
      ]
     },
     "execution_count": 6,
     "metadata": {},
     "output_type": "execute_result"
    },
    {
     "data": {
      "image/png": "[encoded data removed]",
      "text/plain": [
       "<matplotlib.figure.Figure at 0x7fe834136290>"
      ]
     },
     "metadata": {},
     "output_type": "display_data"
    }
   ],
   "source": [
    "print(\"This is what is fed to the CNN\")\n",
    "im = x_test[0]\n",
    "im = im.reshape(im.shape[0], im.shape[1])\n",
    "plt.imshow(im)"
   ]
  },
  {
   "cell_type": "code",
   "execution_count": 7,
   "metadata": {
    "collapsed": true
   },
   "outputs": [],
   "source": [
    "# Convert images into proper format that keras reads\n",
    "if K.image_data_format() == 'channels_first':\n",
    "    x_train = x_train.reshape(x_train.shape[0], 1, img_rows, img_cols)\n",
    "    x_test = x_test.reshape(x_test.shape[0], 1, img_rows, img_cols)\n",
    "    input_shape = (1, img_rows, img_cols)\n",
    "else:\n",
    "    x_train = x_train.reshape(x_train.shape[0], img_rows, img_cols, 1)\n",
    "    x_test = x_test.reshape(x_test.shape[0], img_rows, img_cols, 1)\n",
    "    input_shape = (img_rows, img_cols, 1)"
   ]
  },
  {
   "cell_type": "code",
   "execution_count": 8,
   "metadata": {
    "collapsed": true
   },
   "outputs": [],
   "source": [
    "# Data Normalization\n",
    "x_train = x_train.astype('float32')\n",
    "x_test = x_test.astype('float32')\n",
    "x_train /= 255\n",
    "x_test /= 255"
   ]
  },
  {
   "cell_type": "code",
   "execution_count": 9,
   "metadata": {},
   "outputs": [
    {
     "name": "stderr",
     "output_type": "stream",
     "text": [
      "/home/dhingratul/anaconda2/lib/python2.7/site-packages/sklearn/preprocessing/label.py:147: DataConversionWarning: A column-vector y was passed when a 1d array was expected. Please change the shape of y to (n_samples, ), for example using ravel().\n",
      "  y = column_or_1d(y, warn=True)\n"
     ]
    }
   ],
   "source": [
    "# Label Encoder\n",
    "le = preprocessing.LabelEncoder()\n",
    "le.fit(np.unique(y_all))\n",
    "y_train = le.transform(y_train) \n",
    "y_test = le.transform(y_test) \n",
    "# convert class vectors to binary class matrices\n",
    "y_train = keras.utils.to_categorical(y_train, num_classes)\n",
    "y_test = keras.utils.to_categorical(y_test, num_classes)"
   ]
  },
  {
   "cell_type": "code",
   "execution_count": 10,
   "metadata": {
    "collapsed": true
   },
   "outputs": [],
   "source": [
    "# Plot Loss in real time \n",
    "class PlotLosses(keras.callbacks.Callback):\n",
    "    def on_train_begin(self, logs={}):\n",
    "        self.i = 0\n",
    "        self.x = []\n",
    "        self.losses = []\n",
    "        self.val_losses = []\n",
    "        \n",
    "        self.fig = plt.figure()\n",
    "        \n",
    "        self.logs = []\n",
    "\n",
    "    def on_epoch_end(self, epoch, logs={}):\n",
    "        \n",
    "        self.logs.append(logs)\n",
    "        self.x.append(self.i)\n",
    "        self.losses.append(logs.get('loss'))\n",
    "        self.val_losses.append(logs.get('val_loss'))\n",
    "        self.i += 1\n",
    "        \n",
    "        clear_output(wait=True)\n",
    "        plt.plot(self.x, self.losses, label=\"loss\")\n",
    "        plt.plot(self.x, self.val_losses, label=\"val_loss\")\n",
    "        plt.legend()\n",
    "        plt.savefig(\"figs/{}.png\".format(epoch))\n",
    "        plt.show();\n",
    "        \n",
    "plot_losses = PlotLosses()"
   ]
  },
  {
   "cell_type": "code",
   "execution_count": 11,
   "metadata": {},
   "outputs": [
    {
     "name": "stdout",
     "output_type": "stream",
     "text": [
      "_________________________________________________________________\n",
      "Layer (type)                 Output Shape              Param #   \n",
      "=================================================================\n",
      "conv2d_1 (Conv2D)            (None, 100, 100, 32)      832       \n",
      "_________________________________________________________________\n",
      "max_pooling2d_1 (MaxPooling2 (None, 50, 50, 32)        0         \n",
      "_________________________________________________________________\n",
      "conv2d_2 (Conv2D)            (None, 50, 50, 64)        51264     \n",
      "_________________________________________________________________\n",
      "max_pooling2d_2 (MaxPooling2 (None, 25, 25, 64)        0         \n",
      "_________________________________________________________________\n",
      "conv2d_3 (Conv2D)            (None, 25, 25, 128)       73856     \n",
      "_________________________________________________________________\n",
      "max_pooling2d_3 (MaxPooling2 (None, 12, 12, 128)       0         \n",
      "_________________________________________________________________\n",
      "conv2d_4 (Conv2D)            (None, 12, 12, 256)       295168    \n",
      "_________________________________________________________________\n",
      "max_pooling2d_4 (MaxPooling2 (None, 6, 6, 256)         0         \n",
      "_________________________________________________________________\n",
      "flatten_1 (Flatten)          (None, 9216)              0         \n",
      "_________________________________________________________________\n",
      "dense_1 (Dense)              (None, 2048)              18876416  \n",
      "_________________________________________________________________\n",
      "dropout_1 (Dropout)          (None, 2048)              0         \n",
      "_________________________________________________________________\n",
      "dense_2 (Dense)              (None, 1024)              2098176   \n",
      "_________________________________________________________________\n",
      "dropout_2 (Dropout)          (None, 1024)              0         \n",
      "_________________________________________________________________\n",
      "dense_3 (Dense)              (None, 512)               524800    \n",
      "_________________________________________________________________\n",
      "dropout_3 (Dropout)          (None, 512)               0         \n",
      "_________________________________________________________________\n",
      "dense_4 (Dense)              (None, 82)                42066     \n",
      "=================================================================\n",
      "Total params: 21,962,578\n",
      "Trainable params: 21,962,578\n",
      "Non-trainable params: 0\n",
      "_________________________________________________________________\n"
     ]
    }
   ],
   "source": [
    "#  Model Definition\n",
    "model = Sequential()\n",
    "model.add(Conv2D(32, kernel_size=(5, 5),\n",
    "                 activation='relu',\n",
    "                 input_shape=input_shape,\n",
    "                 padding='same'))\n",
    "model.add(MaxPooling2D(pool_size=(2, 2)))\n",
    "model.add(Conv2D(64, (5, 5), activation='relu', padding='same'))\n",
    "model.add(MaxPooling2D(pool_size=(2, 2)))\n",
    "model.add(Conv2D(128, (3, 3), activation='relu', padding='same'))\n",
    "model.add(MaxPooling2D(pool_size=(2, 2)))\n",
    "model.add(Conv2D(256, (3, 3), activation='relu', padding='same'))\n",
    "model.add(MaxPooling2D(pool_size=(2, 2)))\n",
    "model.add(Flatten())\n",
    "model.add(Dense(2048, activation='relu'))\n",
    "model.add(Dropout(0.5))\n",
    "model.add(Dense(1024, activation='relu'))\n",
    "model.add(Dropout(0.5))\n",
    "model.add(Dense(512, activation='relu'))\n",
    "model.add(Dropout(0.5))\n",
    "model.add(Dense(num_classes, activation='softmax'))\n",
    "# Model Summary\n",
    "model.summary()\n",
    "# Train Model\n",
    "model.compile(loss=keras.losses.categorical_crossentropy,\n",
    "              optimizer=keras.optimizers.Adam(),\n",
    "              metrics=['accuracy'])"
   ]
  },
  {
   "cell_type": "code",
   "execution_count": 12,
   "metadata": {},
   "outputs": [
    {
     "data": {
      "image/png": "[encoded data removed]",
      "text/plain": [
       "<matplotlib.figure.Figure at 0x7fe77ee3bc90>"
      ]
     },
     "metadata": {},
     "output_type": "display_data"
    },
    {
     "name": "stdout",
     "output_type": "stream",
     "text": [
      "14456/14456 [==============================] - 13s - loss: 0.4456 - acc: 0.8682 - val_loss: 0.7453 - val_acc: 0.8180\n"
     ]
    }
   ],
   "source": [
    "# Train Model\n",
    "train = True  ## Set it to True if you want to train the model again\n",
    "datagen = False\n",
    "if train is True:\n",
    "    if datagen is True:\n",
    "        datagen = ImageDataGenerator(\n",
    "                featurewise_center=False,\n",
    "                zca_whitening=False,\n",
    "                shear_range=0.,\n",
    "                rotation_range=0.,\n",
    "                featurewise_std_normalization=False,\n",
    "                width_shift_range=0,\n",
    "                height_shift_range=0,\n",
    "                horizontal_flip=True)\n",
    "     \n",
    "        datagen.fit(x_train)\n",
    "        model.fit_generator(datagen.flow(x_train, y_train, batch_size=batch_size),\n",
    "                        steps_per_epoch=len(x_train) / batch_size, epochs=epochs,\n",
    "                        validation_data=(x_test, y_test),\n",
    "                        callbacks=[plot_losses])\n",
    "    else:\n",
    "        model.fit(x_train, y_train,\n",
    "                  batch_size=batch_size,\n",
    "                  epochs=epochs,\n",
    "                  verbose=1,\n",
    "                  validation_data=(x_test, y_test)\n",
    "                  ,callbacks=[plot_losses])\n",
    "    model.save('model/model.h5')\n",
    "    # Model Plot\n",
    "    plot_model(model, to_file='img/model.png')\n",
    "else:\n",
    "    model = load_model('model/model.h5')"
   ]
  },
  {
   "cell_type": "code",
   "execution_count": 13,
   "metadata": {},
   "outputs": [
    {
     "name": "stdout",
     "output_type": "stream",
     "text": [
      "Help on function metric in module getData:\n",
      "\n",
      "metric(model, x, y, test_cases, le)\n",
      "    Helper function to get +1/-1 metric which is defined as follows:\n",
      "    A prediction is assumed correct if the prediction is within the range of \n",
      "    [-1, +1] around the ground truth\n",
      "    example: Prediction of (46, 47, 48) is acceptable in case where ground truth is 47\n",
      "    \n",
      "    Input: {model, x, y, test_cases, le}\n",
      "    -- model = keras model, \n",
      "    -- x = X matrix\n",
      "    -- y = y matrix,\n",
      "    -- test_cases = Number of samples from 0 index to produce metric on\n",
      "    -- le = LabelEncoder() object used to transform y matrix\n",
      "    \n",
      "    Output: {gnd, pred, acc} \n",
      "    -- gnd = Label encoder transformed ground truth labels\n",
      "    -- pred = Label encoder transformed predicted labels \n",
      "    -- acc * 100 = Percent accuracy on metric\n",
      "\n",
      "None\n"
     ]
    }
   ],
   "source": [
    "print(help(getData.metric))"
   ]
  },
  {
   "cell_type": "code",
   "execution_count": 14,
   "metadata": {
    "scrolled": true
   },
   "outputs": [
    {
     "name": "stdout",
     "output_type": "stream",
     "text": [
      "93.9886552297\n"
     ]
    }
   ],
   "source": [
    "# Overall Performance on Training Set\n",
    "_, _, perf = getData.metric(model,x_train, y_train, y_train.shape[0], le)\n",
    "print(perf)"
   ]
  },
  {
   "cell_type": "code",
   "execution_count": 15,
   "metadata": {},
   "outputs": [
    {
     "name": "stdout",
     "output_type": "stream",
     "text": [
      "91.3\n"
     ]
    }
   ],
   "source": [
    "# Overall Performance on Testing Set\n",
    "_, _, perf = getData.metric(model, x_test, y_test, y_test.shape[0], le)\n",
    "print(perf)"
   ]
  },
  {
   "cell_type": "code",
   "execution_count": 16,
   "metadata": {},
   "outputs": [
    {
     "name": "stdout",
     "output_type": "stream",
     "text": [
      "Ground truth labels: [ 40.  35.  65.  25.  52.  46.  47.  60.  43.  39.] \n",
      " Predicted Labels:    [ 40.  34.  65.  25.  52.  46.  46.  60.  43.  39.]\n"
     ]
    }
   ],
   "source": [
    "# Predictions\n",
    "gnd, pred, _ = getData.metric(model, x_test, y_test, 50, le)\n",
    "print(\"Ground truth labels: {} \\n Predicted Labels:    {}\" .format(gnd[0:10], pred[0:10]))"
   ]
  },
  {
   "cell_type": "code",
   "execution_count": 17,
   "metadata": {},
   "outputs": [
    {
     "name": "stdout",
     "output_type": "stream",
     "text": [
      "Exact prediction with GND truth 40.0 and Predicted label 40.0\n"
     ]
    },
    {
     "data": {
      "text/plain": [
       "<matplotlib.image.AxesImage at 0x7fe73863cb50>"
      ]
     },
     "execution_count": 17,
     "metadata": {},
     "output_type": "execute_result"
    },
    {
     "data": {
      "image/png": "[encoded data removed]",
      "text/plain": [
       "<matplotlib.figure.Figure at 0x7fe834136510>"
      ]
     },
     "metadata": {},
     "output_type": "display_data"
    }
   ],
   "source": [
    "# Visual Inspect outputs -- Exact Prediction\n",
    "idx =(gnd == pred)\n",
    "idx = np.argmax(idx)\n",
    "print(\"Exact prediction with GND truth {} and Predicted label {}\".format(gnd[idx], pred[idx]))\n",
    "plt.imshow(x_images[idx])"
   ]
  },
  {
   "cell_type": "code",
   "execution_count": 18,
   "metadata": {},
   "outputs": [
    {
     "name": "stdout",
     "output_type": "stream",
     "text": [
      "Accruate prediction based on user defined metric with GND truth 35.0 and Predicted label 34.0\n"
     ]
    },
    {
     "data": {
      "text/plain": [
       "<matplotlib.image.AxesImage at 0x7fe738707dd0>"
      ]
     },
     "execution_count": 18,
     "metadata": {},
     "output_type": "execute_result"
    },
    {
     "data": {
      "image/png": "[encoded data removed]",
      "text/plain": [
       "<matplotlib.figure.Figure at 0x7fe7a7cf5750>"
      ]
     },
     "metadata": {},
     "output_type": "display_data"
    }
   ],
   "source": [
    "# Visual Inspect outputs -- Correct Prediction based on user defined metric\n",
    "idx =(pred == gnd + 1) | (pred == gnd - 1)\n",
    "idx = np.argmax(idx)\n",
    "print(\"Accruate prediction based on user defined metric with GND truth {} and Predicted label {}\".format(gnd[idx], pred[idx]))\n",
    "plt.imshow(x_images[6])"
   ]
  },
  {
   "cell_type": "code",
   "execution_count": 19,
   "metadata": {},
   "outputs": [
    {
     "name": "stdout",
     "output_type": "stream",
     "text": [
      "Incorrect prediction based on user defined metric with GND truth 40.0 and Predicted label 50.0\n"
     ]
    },
    {
     "data": {
      "text/plain": [
       "<matplotlib.image.AxesImage at 0x7fe73836bd90>"
      ]
     },
     "execution_count": 19,
     "metadata": {},
     "output_type": "execute_result"
    },
    {
     "data": {
      "image/png": "[encoded data removed]",
      "text/plain": [
       "<matplotlib.figure.Figure at 0x7fe738469bd0>"
      ]
     },
     "metadata": {},
     "output_type": "display_data"
    }
   ],
   "source": [
    "# Visual Inspect outputs -- Incorrect Prediction\n",
    "mask =(pred == gnd + 1) | (pred == gnd - 1) | (pred == gnd)\n",
    "mask = np.nonzero(np.invert(mask))\n",
    "idx = mask[0][0]\n",
    "print(\"Incorrect prediction based on user defined metric with GND truth {} and Predicted label {}\".format(gnd[idx], pred[idx]))\n",
    "plt.imshow(x_images[idx])"
   ]
  },
  {
   "cell_type": "code",
   "execution_count": 20,
   "metadata": {},
   "outputs": [
    {
     "name": "stdout",
     "output_type": "stream",
     "text": [
      "This is what is fed to the CNN\n"
     ]
    },
    {
     "data": {
      "text/plain": [
       "<matplotlib.image.AxesImage at 0x7fe7387f1410>"
      ]
     },
     "execution_count": 20,
     "metadata": {},
     "output_type": "execute_result"
    },
    {
     "data": {
      "image/png": "[encoded data removed]",
      "text/plain": [
       "<matplotlib.figure.Figure at 0x7fe738705610>"
      ]
     },
     "metadata": {},
     "output_type": "display_data"
    }
   ],
   "source": [
    "# Failure Case -- Algorithm fails when the pre-processing fails \n",
    "print(\"This is what is fed to the CNN\")\n",
    "im = x_test[idx]\n",
    "im = im.reshape(im.shape[0], im.shape[1])\n",
    "plt.imshow(im)"
   ]
  },
  {
   "cell_type": "code",
   "execution_count": 21,
   "metadata": {},
   "outputs": [
    {
     "name": "stdout",
     "output_type": "stream",
     "text": [
      "Incorrect prediction based on user defined metric with GND truth 40.0 and Predicted label 54.0\n"
     ]
    },
    {
     "data": {
      "text/plain": [
       "<matplotlib.image.AxesImage at 0x7fe739fde390>"
      ]
     },
     "execution_count": 21,
     "metadata": {},
     "output_type": "execute_result"
    },
    {
     "data": {
      "image/png": "[encoded data removed]",
      "text/plain": [
       "<matplotlib.figure.Figure at 0x7fe83d7122d0>"
      ]
     },
     "metadata": {},
     "output_type": "display_data"
    }
   ],
   "source": [
    "# Visual Inspect outputs -- Incorrect Prediction\n",
    "mask =(pred == gnd + 1) | (pred == gnd - 1) | (pred == gnd)\n",
    "mask = np.nonzero(np.invert(mask))\n",
    "idx = mask[0][1]\n",
    "print(\"Incorrect prediction based on user defined metric with GND truth {} and Predicted label {}\".format(gnd[idx], pred[idx]))\n",
    "plt.imshow(x_images[idx])"
   ]
  },
  {
   "cell_type": "code",
   "execution_count": 22,
   "metadata": {},
   "outputs": [
    {
     "name": "stdout",
     "output_type": "stream",
     "text": [
      "This is what is fed to the CNN\n"
     ]
    },
    {
     "data": {
      "text/plain": [
       "<matplotlib.image.AxesImage at 0x7fe7626fc9d0>"
      ]
     },
     "execution_count": 22,
     "metadata": {},
     "output_type": "execute_result"
    },
    {
     "data": {
      "image/png": "[encoded data removed]",
      "text/plain": [
       "<matplotlib.figure.Figure at 0x7fe7a7cd2650>"
      ]
     },
     "metadata": {},
     "output_type": "display_data"
    }
   ],
   "source": [
    "# Failure Case -- Algorithm fails when the pre-processing fails \n",
    "print(\"This is what is fed to the CNN\")\n",
    "im = x_test[idx]\n",
    "im = im.reshape(im.shape[0], im.shape[1])\n",
    "plt.imshow(im)"
   ]
  }
 ],
 "metadata": {
  "kernelspec": {
   "display_name": "Python 2",
   "language": "python",
   "name": "python2"
  },
  "language_info": {
   "codemirror_mode": {
    "name": "ipython",
    "version": 2
   },
   "file_extension": ".py",
   "mimetype": "text/x-python",
   "name": "python",
   "nbconvert_exporter": "python",
   "pygments_lexer": "ipython2",
   "version": "2.7.13"
  }
 },
 "nbformat": 4,
 "nbformat_minor": 2
}
